{
  "cells": [
    {
      "cell_type": "code",
      "execution_count": null,
      "metadata": {
        "id": "BPdNfudkzoj_"
      },
      "outputs": [],
      "source": [
        "#@title Imports.\n",
        "import sympy as sp\n",
        "from tqdm import tqdm\n",
        "import functools\n",
        "import itertools\n",
        "import math"
      ]
    },
    {
      "cell_type": "markdown",
      "metadata": {
        "id": "T7CrlmBN0Eyd"
      },
      "source": [
        "# Theory"
      ]
    },
    {
      "cell_type": "markdown",
      "metadata": {
        "id": "32m7WalY0D3t"
      },
      "source": [
        "Let us fix a finite field $GF(q)$ and some positive integers $m, n$. Let us denote the set of  $m \\times n$ matrices of rank $k$ as $\\mathcal{J}_k$.\n",
        "\n",
        "Consider a fixed matrix $A$ of rank $i$. Then consider the intersection $\\mathcal{J}_j \\cap (\\mathcal{J}_k + A)$. The number of elements in this intersection we denote $d_{ijk}(m, n)$. It does not depend on choice of $A$.\n",
        "\n",
        "We obtained a theoretic formula for $d_{ijk}(m,n)$:"
      ]
    },
    {
      "cell_type": "markdown",
      "metadata": {
        "id": "i0i_VAB71mSn"
      },
      "source": [
        "$$\n",
        "\\newcommand{\\qbinom}[2]{\\begin{bmatrix}#1 \\\\ #2 \\end{bmatrix}_q}\n",
        "\\newcommand{\\factq}[1]{\\langle #1 \\rangle!}\n",
        "d_{ijk}(m,n) = \\sum_{r = n - j}^n (-1)^{r-n+j} \\cdot q^{\\binom{r-n+j}{2}}\\cdot \\qbinom{r}{n-j} \\\n",
        "    \\sum\\limits_{x=\\max(0, r-i)}^{\\min (n-i,r)} \\qbinom{n-i}{x} \\qbinom{i}{r-x} \\times \\\\ \\times q^{(r-x)(n-i-x)} \\sum\\limits_{z=\\max(0, k+x-r)}^{\\min (k,n-r)} \\qbinom{r-x}{z+r-x-k} \\cdot\n",
        " \\qbinom{m+x-r}{k+x-r} q^{(k+x-r)(k-z)} q^{\\binom{z}{2}} \\frac{\\factq{n-r}}{\\factq{n-r - z}}.\n",
        "$$"
      ]
    },
    {
      "cell_type": "markdown",
      "metadata": {
        "id": "vxWvp6EV2yXT"
      },
      "source": [
        "Let us consider those numbers as a sequence in $i$ for any $q,m,n$ and $j=k$. Our current goal is to prove that such sequence is strictly descending."
      ]
    },
    {
      "cell_type": "markdown",
      "metadata": {
        "id": "dpKEia_53Sqa"
      },
      "source": [
        "# Preparation"
      ]
    },
    {
      "cell_type": "markdown",
      "metadata": {
        "id": "grQDhx9vltUO"
      },
      "source": [
        "In this section we prepare several necessary functions that will perform the checks."
      ]
    },
    {
      "cell_type": "markdown",
      "metadata": {
        "id": "6DjSYs0LaXhu"
      },
      "source": [
        "Function `d_mnijk_poly` accepts a symbol `q` and numbers $m,n,i,j,k$. It produces the number $d_{ijk}(m,n)$ as a polynomial in $q$."
      ]
    },
    {
      "cell_type": "code",
      "execution_count": null,
      "metadata": {
        "id": "9c9BMEQ5z4q5"
      },
      "outputs": [],
      "source": [
        "@functools.cache\n",
        "def qfact_as_poly (q, n):\n",
        "  prod = 1\n",
        "  for i in range(1, n+1):\n",
        "    prod *= (q**i-1) # the sign means that we get not (q,q)_n but |q,q|_n\n",
        "  return prod\n",
        "\n",
        "@functools.cache\n",
        "def q_fraction_as_poly (q, n, k):\n",
        "  if (n<0) or (k<0) or (k>n):\n",
        "    return 0\n",
        "  ans = 1\n",
        "  for i in range(k+1, n+1):\n",
        "    ans *= (q**i-1)\n",
        "  return ans\n",
        "\n",
        "@functools.cache\n",
        "def q_binomial_as_poly (q, n, k):\n",
        "    if k < 0 or k > n:\n",
        "        return 0\n",
        "    if k == 0 or k == n:\n",
        "        return 1\n",
        "    return q_binomial_as_poly(q, n - 1, k - 1) + q ** k * q_binomial_as_poly(q, n - 1, k)\n",
        "\n",
        "def d_mnijk_poly (q, m, n, i, j, k):\n",
        "  ans = 0\n",
        "  try:\n",
        "    for r in range(n-k, n+1):\n",
        "      sum = 0\n",
        "      for x in range(max(0,r-i,r-j), min(n-i,r)+1):\n",
        "        sum2 = 0\n",
        "        for z in range(j+x-r, min(j,n-r)+1):\n",
        "          sum2 += q_binomial_as_poly(q, r-x, z+r-x-j)*(q**((j+x-r)*(j-z)+int((z)*(z-1)//2)))*(q_fraction_as_poly(q,n-r,n-r-z))\n",
        "        sum += sum2 * q_binomial_as_poly(q, n-i, x) * q_binomial_as_poly(q, m+x-r, j+x-r) * q_binomial_as_poly(q, i, r-x) * (q**((r-x)*(n-i-x)))\n",
        "      ans += sum * ((-1)**(r-n+k)) * (q**(int((r-n+k)*(r-n+k-1)//2))) * q_binomial_as_poly(q, r, n-k)\n",
        "  except:\n",
        "    print(f'Error: m={m}, n={n}, i={i}, j={j}, k={k}, r={r}, x={x}, z={z}')\n",
        "    return\n",
        "  return ans\n",
        "\n",
        "q = sp.Poly(sp.symbols('q'))"
      ]
    },
    {
      "cell_type": "markdown",
      "source": [
        "We rewrite our formula also in the form\n",
        "$$\n",
        "d_{ijk}(m,n)=\\sum_{s=0}^{k} q^{\\binom{s}{2} + s} (-1)^s q^{(m-k)s} \\sum_{r = n - j}^n (-1)^{r-n+j} \\cdot q^{\\binom{r-n+j}{2}}\\cdot \\qbinom{r}{n-j} \\\n",
        "\\sum\\limits_{x=\\max(0, r-i, r - k, r+s-k)}^{\\min (n-i,r)} \\qbinom{n-i}{x} \\qbinom{i}{r-x} \\times\n",
        "$$\n",
        "$$\n",
        "q^{(r-x)(n-i-x)} \\sum\\limits_{z=k+x-r}^{\\min (k,n-r)} \\qbinom{r-x}{z+r-x-k} \\cdot\n",
        "$$\n",
        "$$\n",
        "\\qbinom{n-r}{n-r-z} q^{(k+x-r)(k-z)} q^{\\binom{z}{2}} \\frac{\\factq{z}}{\\factq{k+x-r}} (-1)^{k+x-r} \\qbinom{k+x-r}{s} =\n",
        "$$\n",
        "$$\n",
        "= \\sum_{s=0}^{k} q^{(m-k)s} G_s(q,n,i,j,k).\n",
        "$$\n",
        "\n",
        "We rewrite the function so that it finds those polynomials $G_s(q,n,i,j,k)$ separately."
      ],
      "metadata": {
        "id": "IVa-b-wylvg4"
      }
    },
    {
      "cell_type": "code",
      "source": [
        "def d_mnijk_poly_clusters (q, n, i, j, k):\n",
        "  ans = []\n",
        "  try:\n",
        "    for s in range(0,j+1):\n",
        "      sum0 = 0\n",
        "      for r in range(n-k, n+1):\n",
        "        sum = 0\n",
        "        for x in range(max(0,r-i,r-j+s), min(n-i,r)+1):\n",
        "          sum2 = 0\n",
        "          for z in range(j+x-r, min(j,n-r)+1):\n",
        "            sum2 += q_binomial_as_poly(q, r-x, z+r-x-j)*(q**((j+x-r)*(j-z)+int((z)*(z-1)//2)))*q_binomial_as_poly(q, n-r, n-z-r) *q_binomial_as_poly(q, j+x-r, s) *(q_fraction_as_poly(q,z,j+x-r))*((-1)**(j+x-r))\n",
        "          sum += sum2 * q_binomial_as_poly(q, n-i, x) * q_binomial_as_poly(q, i, r-x) * (q**((r-x)*(n-i-x)))\n",
        "        sum0 += sum * ((-1)**(r-n+k)) * (q**(int((r-n+k)*(r-n+k-1)//2))) * q_binomial_as_poly(q, r, n-k)\n",
        "      ans.append(sum0*((-1)**s)*q**(int(s*(s-1)/2) + s)) # we need to further multiply by q**(s*(m-j))\n",
        "  except:\n",
        "    print(f'Error: n={n}, i={i}, j={j}, k={k}, r={r}, x={x}, z={z}')\n",
        "    return\n",
        "  return ans\n",
        "\n",
        "def generate_for_all_i_clusters (q, n, j, k):\n",
        "  ans = []\n",
        "  for i in range(0,n+1):\n",
        "    ans.append(d_mnijk_poly_clusters(q,n,i,j,k))\n",
        "  return ans\n",
        "\n",
        "def differences_for_all_i_clusters (q, n, j, k, draft=False):\n",
        "  ans = []\n",
        "  if draft:\n",
        "    print(f'n={n}, j={j}, k={k}')\n",
        "  clusters = generate_for_all_i_clusters(q,n,j,k)\n",
        "  for i in range(len(clusters)-1):\n",
        "    if draft:\n",
        "      print(f'i={i}')\n",
        "    ans.append([clusters[i][s]-clusters[i+1][s] for s in range(len(clusters[i]))])\n",
        "    if draft:\n",
        "      for s in range(len(clusters[i])):\n",
        "        print(clusters[i][s]-clusters[i+1][s])\n",
        "  return ans"
      ],
      "metadata": {
        "id": "lMfb0IT4lt96"
      },
      "execution_count": null,
      "outputs": []
    },
    {
      "cell_type": "markdown",
      "metadata": {
        "id": "giSawluNanWl"
      },
      "source": [
        "Function `check_poly_positivity_fast` checks a given polynomial for being positive when $q\\geq 2$ by substuting $q+2$ instead of $q$, expanding and checking that all coefficients are positive. This is not equivalent to positivity (for example, $q^2-q+1$ is positive for all $q \\geq 0$ despite one of the coefficients being negative), but it is a sufficient condition. We will see later that it holds for most cases that are relevant to us.\n",
        "\n",
        "The function accepts the polynomial itself, the `sympy` variable in which the polynomial is given, and an optional argument `shift` that allows to switch from shifting by 2 to any other value."
      ]
    },
    {
      "cell_type": "code",
      "execution_count": null,
      "metadata": {
        "id": "wuy6-CiwZejE"
      },
      "outputs": [],
      "source": [
        "def check_poly_positivity_fast(polynomial, variable, shift):\n",
        "  #polynomial_shifted = sp.Poly(polynomial.subs(variable, variable+shift))\n",
        "  polynomial_shifted_coeffs = (sp.compose(polynomial, variable+shift)).all_coeffs()\n",
        "  return (polynomial_shifted_coeffs[-1] > 0) and all([c >= 0 for c in polynomial_shifted_coeffs])"
      ]
    },
    {
      "cell_type": "code",
      "source": [
        "def check_differences_for_all_i (q, n, j, k, margin=2):\n",
        "  differences = differences_for_all_i_clusters(q,n,j,k)\n",
        "  for i in range(len(differences)):\n",
        "    seeking_largest = True\n",
        "    non_leading_coeffs_sum = 0\n",
        "    non_leading_power = 0\n",
        "    first_suspicious_s = 0\n",
        "\n",
        "    for s in reversed(range(len(differences[i]))):\n",
        "      if seeking_largest and (differences[i][s] == 0):\n",
        "        continue\n",
        "      elif seeking_largest:\n",
        "        seeking_largest = False\n",
        "        leading_part = differences[i][s]\n",
        "        leading_coeffs = leading_part.all_coeffs()\n",
        "        problem = False\n",
        "        for t in leading_coeffs:\n",
        "          if t < 0:\n",
        "            print(f'n={n},i={i},j={j},k={k}')\n",
        "            print(differences[i])\n",
        "            problem = True\n",
        "        if problem:\n",
        "          continue\n",
        "        the_leading_coeff = leading_coeffs[0]\n",
        "        the_leading_power = leading_part.degree()\n",
        "        the_largest_s = s\n",
        "      elif not check_poly_positivity_fast(polynomial=differences[i][s],variable=q, shift=margin):\n",
        "        non_leading_coeffs_sum += sp.Add(*[abs(coeff) for coeff in differences[i][s].all_coeffs()])\n",
        "        non_leading_power = max(non_leading_power, differences[i][s].degree())\n",
        "        first_suspicious_s = max(first_suspicious_s, s)\n",
        "    # we try to make\n",
        "    # q^{m-k}*(the_largest_s-first_suspicious_s) * q^the_leading_power * the_leading_coeff\n",
        "    # >\n",
        "    # non_leading_coeffs_sum * q^non_leading_power\n",
        "    # for all q>=2\n",
        "    # so we want m-k > log_q (non_leading_coeffs_sum/leading_coeffs_sum)\n",
        "    # we pick the smallest q we consider -- the parameter `margin`\n",
        "    if non_leading_coeffs_sum == 0:\n",
        "      min_m = 0\n",
        "    else:\n",
        "      min_m = math.ceil(((math.log(non_leading_coeffs_sum/the_leading_coeff,margin))+non_leading_power-the_leading_power)/(the_largest_s-first_suspicious_s))+k\n",
        "    for m in range(n, min_m+1):\n",
        "      cur = sp.cancel((d_mnijk_poly(q,m,n,i,j,k)-d_mnijk_poly(q,m,n,i+1,j,k)))\n",
        "      if not check_poly_positivity_fast(cur, q, margin):\n",
        "        print(f'\\nm={m},n={n},i={i},j={j},k={k},ans={cur}')"
      ],
      "metadata": {
        "id": "PfQcwEPosIrW"
      },
      "execution_count": null,
      "outputs": []
    },
    {
      "cell_type": "code",
      "source": [
        "for n in tqdm(range(2,14)):\n",
        "  for j in itertools.chain(range(1, n-1), range(n, n+1)): # we skip j=m-1\n",
        "    k = j\n",
        "    check_differences_for_all_i(q=q,n=n,j=j,k=k)"
      ],
      "metadata": {
        "colab": {
          "base_uri": "https://localhost:8080/"
        },
        "id": "h6Teiguvu49l",
        "outputId": "62324aa0-8ada-4fbe-8cb2-a94c331134fc"
      },
      "execution_count": null,
      "outputs": [
        {
          "output_type": "stream",
          "name": "stderr",
          "text": [
            " 17%|█▋        | 2/12 [00:00<00:00, 15.85it/s]"
          ]
        },
        {
          "output_type": "stream",
          "name": "stdout",
          "text": [
            "\n",
            "m=2,n=2,i=1,j=2,k=2,ans=Poly(q**2 - 2*q, q, domain='ZZ')\n"
          ]
        },
        {
          "output_type": "stream",
          "name": "stderr",
          "text": [
            "100%|██████████| 12/12 [06:20<00:00, 31.72s/it]\n"
          ]
        }
      ]
    },
    {
      "cell_type": "code",
      "source": [
        "for n in tqdm(range(2,14)):\n",
        "  for j in range(n-1, n): # case j=m-1\n",
        "    k = j\n",
        "    check_differences_for_all_i(q=q,n=n,j=j,k=k)"
      ],
      "metadata": {
        "colab": {
          "base_uri": "https://localhost:8080/"
        },
        "id": "yGO7XltL2lyp",
        "outputId": "2d3d9c43-3d24-4df1-f53e-cf3a40b15a41"
      },
      "execution_count": null,
      "outputs": [
        {
          "output_type": "stream",
          "name": "stderr",
          "text": [
            "\r  0%|          | 0/12 [00:00<?, ?it/s]"
          ]
        },
        {
          "output_type": "stream",
          "name": "stdout",
          "text": [
            "\n",
            "m=2,n=2,i=1,j=1,k=1,ans=Poly(q**2 - 2*q - 2, q, domain='ZZ')\n",
            "\n",
            "m=3,n=3,i=1,j=2,k=2,ans=Poly(q**7 - 2*q**6 - 2*q**5 + 3*q**4 + 2*q**3 - q**2 - 2*q, q, domain='ZZ')\n",
            "\n",
            "m=3,n=3,i=2,j=2,k=2,ans=Poly(q**6 - 2*q**5 - 3*q**4 + 3*q**3 + 5*q**2 + 3*q, q, domain='ZZ')\n"
          ]
        },
        {
          "output_type": "stream",
          "name": "stderr",
          "text": [
            "\r 25%|██▌       | 3/12 [00:00<00:00,  9.96it/s]"
          ]
        },
        {
          "output_type": "stream",
          "name": "stdout",
          "text": [
            "\n",
            "m=4,n=4,i=3,j=3,k=3,ans=Poly(q**12 - 2*q**11 - 3*q**10 + 2*q**9 + 7*q**8 + 7*q**7 - 4*q**6 - 9*q**5 - 8*q**4 - 4*q**3, q, domain='ZZ')\n"
          ]
        },
        {
          "output_type": "stream",
          "name": "stderr",
          "text": [
            "\r 33%|███▎      | 4/12 [00:00<00:01,  4.57it/s]"
          ]
        },
        {
          "output_type": "stream",
          "name": "stdout",
          "text": [
            "\n",
            "m=5,n=5,i=4,j=4,k=4,ans=Poly(q**20 - 2*q**19 - 3*q**18 + 2*q**17 + 6*q**16 + 9*q**15 - 11*q**13 - 17*q**12 - 13*q**11 + 4*q**10 + 14*q**9 + 15*q**8 + 11*q**7 + 5*q**6, q, domain='ZZ')\n"
          ]
        },
        {
          "output_type": "stream",
          "name": "stderr",
          "text": [
            "\r 42%|████▏     | 5/12 [00:01<00:03,  2.12it/s]"
          ]
        },
        {
          "output_type": "stream",
          "name": "stdout",
          "text": [
            "\n",
            "m=6,n=6,i=5,j=5,k=5,ans=Poly(q**30 - 2*q**29 - 3*q**28 + 2*q**27 + 6*q**26 + 8*q**25 + 2*q**24 - 7*q**23 - 19*q**22 - 21*q**21 - 7*q**20 + 13*q**19 + 28*q**18 + 32*q**17 + 23*q**16 - 3*q**15 - 19*q**14 - 24*q**13 - 21*q**12 - 14*q**11 - 6*q**10, q, domain='ZZ')\n",
            "\n",
            "m=7,n=7,i=6,j=6,k=6,ans=Poly(q**42 - 2*q**41 - 3*q**40 + 2*q**39 + 6*q**38 + 8*q**37 + q**36 - 5*q**35 - 15*q**34 - 23*q**33 - 15*q**32 + 3*q**31 + 25*q**30 + 41*q**29 + 45*q**28 + 23*q**27 - 8*q**26 - 38*q**25 - 54*q**24 - 54*q**23 - 37*q**22 - q**21 + 24*q**20 + 34*q**19 + 34*q**18 + 27*q**17 + 17*q**16 + 7*q**15, q, domain='ZZ')\n"
          ]
        },
        {
          "output_type": "stream",
          "name": "stderr",
          "text": [
            "\r 50%|█████     | 6/12 [00:03<00:05,  1.07it/s]"
          ]
        },
        {
          "output_type": "stream",
          "name": "stdout",
          "text": [
            "\n",
            "m=8,n=8,i=7,j=7,k=7,ans=Poly(q**56 - 2*q**55 - 3*q**54 + 2*q**53 + 6*q**52 + 8*q**51 + q**50 - 6*q**49 - 13*q**48 - 19*q**47 - 17*q**46 - 5*q**45 + 15*q**44 + 39*q**43 + 52*q**42 + 41*q**41 + 19*q**40 - 19*q**39 - 56*q**38 - 82*q**37 - 85*q**36 - 56*q**35 - 7*q**34 + 40*q**33 + 75*q**32 + 91*q**31 + 84*q**30 + 57*q**29 + 8*q**28 - 27*q**27 - 45*q**26 - 49*q**25 - 44*q**24 - 33*q**23 - 20*q**22 - 8*q**21, q, domain='ZZ')\n"
          ]
        },
        {
          "output_type": "stream",
          "name": "stderr",
          "text": [
            "\r 58%|█████▊    | 7/12 [00:07<00:08,  1.78s/it]"
          ]
        },
        {
          "output_type": "stream",
          "name": "stdout",
          "text": [
            "\n",
            "m=9,n=9,i=8,j=8,k=8,ans=Poly(q**72 - 2*q**71 - 3*q**70 + 2*q**69 + 6*q**68 + 8*q**67 + q**66 - 6*q**65 - 14*q**64 - 17*q**63 - 13*q**62 - 7*q**61 + 7*q**60 + 29*q**59 + 50*q**58 + 49*q**57 + 35*q**56 + 4*q**55 - 36*q**54 - 76*q**53 - 101*q**52 - 100*q**51 - 68*q**50 - 11*q**49 + 51*q**48 + 109*q**47 + 146*q**46 + 151*q**45 + 109*q**44 + 44*q**43 - 29*q**42 - 89*q**41 - 128*q**40 - 139*q**39 - 124*q**38 - 84*q**37 - 20*q**36 + 28*q**35 + 55*q**34 + 66*q**33 + 64*q**32 + 54*q**31 + 39*q**30 + 23*q**29 + 9*q**28, q, domain='ZZ')\n"
          ]
        },
        {
          "output_type": "stream",
          "name": "stderr",
          "text": [
            "\r 67%|██████▋   | 8/12 [00:15<00:14,  3.63s/it]"
          ]
        },
        {
          "output_type": "stream",
          "name": "stdout",
          "text": [
            "\n",
            "m=10,n=10,i=9,j=9,k=9,ans=Poly(q**90 - 2*q**89 - 3*q**88 + 2*q**87 + 6*q**86 + 8*q**85 + q**84 - 6*q**83 - 14*q**82 - 18*q**81 - 11*q**80 - 3*q**79 + 5*q**78 + 21*q**77 + 40*q**76 + 47*q**75 + 43*q**74 + 21*q**73 - 15*q**72 - 60*q**71 - 94*q**70 - 108*q**69 - 100*q**68 - 68*q**67 - 7*q**66 + 67*q**65 + 138*q**64 + 189*q**63 + 194*q**62 + 160*q**61 + 87*q**60 - 7*q**59 - 108*q**58 - 189*q**57 - 243*q**56 - 249*q**55 - 196*q**54 - 106*q**53 - 6*q**52 + 87*q**51 + 157*q**50 + 197*q**49 + 202*q**48 + 174*q**47 + 120*q**46 + 38*q**45 - 25*q**44 - 64*q**43 - 83*q**42 - 87*q**41 - 79*q**40 - 64*q**39 - 45*q**38 - 26*q**37 - 10*q**36, q, domain='ZZ')\n"
          ]
        },
        {
          "output_type": "stream",
          "name": "stderr",
          "text": [
            "\r 75%|███████▌  | 9/12 [00:28<00:19,  6.41s/it]"
          ]
        },
        {
          "output_type": "stream",
          "name": "stdout",
          "text": [
            "\n",
            "m=11,n=11,i=10,j=10,k=10,ans=Poly(q**110 - 2*q**109 - 3*q**108 + 2*q**107 + 6*q**106 + 8*q**105 + q**104 - 6*q**103 - 14*q**102 - 18*q**101 - 12*q**100 - q**99 + 9*q**98 + 19*q**97 + 32*q**96 + 37*q**95 + 41*q**94 + 29*q**93 + 2*q**92 - 38*q**91 - 80*q**90 - 105*q**89 - 107*q**88 - 92*q**87 - 52*q**86 + 13*q**85 + 89*q**84 + 162*q**83 + 208*q**82 + 225*q**81 + 193*q**80 + 117*q**79 + 7*q**78 - 109*q**77 - 228*q**76 - 317*q**75 - 346*q**74 - 316*q**73 - 227*q**72 - 99*q**71 + 47*q**70 + 192*q**69 + 311*q**68 + 378*q**67 + 389*q**66 + 324*q**65 + 209*q**64 + 72*q**63 - 58*q**62 - 170*q**61 - 246*q**60 - 284*q**59 - 280*q**58 - 238*q**57 - 165*q**56 - 64*q**55 + 17*q**54 + 70*q**53 + 100*q**52 + 111*q**51 + 108*q**50 + 94*q**49 + 74*q**48 + 51*q**47 + 29*q**46 + 11*q**45, q, domain='ZZ')\n"
          ]
        },
        {
          "output_type": "stream",
          "name": "stderr",
          "text": [
            "\r 83%|████████▎ | 10/12 [00:49<00:22, 11.00s/it]"
          ]
        },
        {
          "output_type": "stream",
          "name": "stdout",
          "text": [
            "\n",
            "m=12,n=12,i=11,j=11,k=11,ans=Poly(q**132 - 2*q**131 - 3*q**130 + 2*q**129 + 6*q**128 + 8*q**127 + q**126 - 6*q**125 - 14*q**124 - 18*q**123 - 12*q**122 - 2*q**121 + 11*q**120 + 23*q**119 + 30*q**118 + 29*q**117 + 31*q**116 + 27*q**115 + 10*q**114 - 21*q**113 - 58*q**112 - 90*q**111 - 106*q**110 - 103*q**109 - 75*q**108 - 24*q**107 + 47*q**106 + 117*q**105 + 174*q**104 + 220*q**103 + 233*q**102 + 205*q**101 + 125*q**100 + 13*q**99 - 122*q**98 - 254*q**97 - 355*q**96 - 410*q**95 - 404*q**94 - 328*q**93 - 203*q**92 - 29*q**91 + 170*q**90 + 356*q**89 + 498*q**88 + 566*q**87 + 555*q**86 + 457*q**85 + 300*q**84 + 97*q**83 - 116*q**82 - 315*q**81 - 472*q**80 - 570*q**79 - 582*q**78 - 503*q**77 - 360*q**76 - 186*q**75 - 7*q**74 + 152*q**73 + 278*q**72 + 359*q**71 + 391*q**70 + 375*q**69 + 316*q**68 + 223*q**67 + 98*q**66 - 2*q**65 - 72*q**64 - 115*q**63 - 136*q**62 - 139*q**61 - 129*q**60 - 109*q**59 - 84*q**58 - 57*q**57 - 32*q**56 - 12*q**55, q, domain='ZZ')\n"
          ]
        },
        {
          "output_type": "stream",
          "name": "stderr",
          "text": [
            "\r 92%|█████████▏| 11/12 [01:25<00:18, 18.43s/it]"
          ]
        },
        {
          "output_type": "stream",
          "name": "stdout",
          "text": [
            "\n",
            "m=13,n=13,i=12,j=12,k=12,ans=Poly(q**156 - 2*q**155 - 3*q**154 + 2*q**153 + 6*q**152 + 8*q**151 + q**150 - 6*q**149 - 14*q**148 - 18*q**147 - 12*q**146 - 2*q**145 + 10*q**144 + 25*q**143 + 34*q**142 + 27*q**141 + 23*q**140 + 17*q**139 + 8*q**138 - 13*q**137 - 41*q**136 - 68*q**135 - 91*q**134 - 101*q**133 - 88*q**132 - 51*q**131 + 11*q**130 + 83*q**129 + 141*q**128 + 190*q**127 + 221*q**126 + 226*q**125 + 188*q**124 + 112*q**123 - 4*q**122 - 137*q**121 - 267*q**120 - 378*q**119 - 451*q**118 - 455*q**117 - 394*q**116 - 269*q**115 - 88*q**114 + 125*q**113 + 350*q**112 + 540*q**111 + 676*q**110 + 726*q**109 + 683*q**108 + 545*q**107 + 333*q**106 + 59*q**105 - 232*q**104 - 516*q**103 - 745*q**102 - 874*q**101 - 893*q**100 - 805*q**99 - 623*q**98 - 369*q**97 - 78*q**96 + 220*q**95 + 486*q**94 + 692*q**93 + 816*q**92 + 842*q**91 + 748*q**90 + 575*q**89 + 355*q**88 + 125*q**87 - 93*q**86 - 276*q**85 - 415*q**84 - 496*q**83 - 521*q**82 - 489*q**81 - 410*q**80 - 294*q**79 - 144*q**78 - 20*q**77 + 68*q**76 + 127*q**75 + 160*q**74 + 172*q**73 + 167*q**72 + 150*q**71 + 124*q**70 + 94*q**69 + 63*q**68 + 35*q**67 + 13*q**66, q, domain='ZZ')\n"
          ]
        },
        {
          "output_type": "stream",
          "name": "stderr",
          "text": [
            "100%|██████████| 12/12 [02:21<00:00, 11.81s/it]\n"
          ]
        }
      ]
    },
    {
      "cell_type": "markdown",
      "source": [
        "We see that the exceptional cases where this approach does not work are $i=j=k=m-1=n-1$ and additionally one special case $m=n=3, i=1, j=k=2$. We are going to check for them that for $q\\geq 3$ the approach works:"
      ],
      "metadata": {
        "id": "sfZslw_N3lfR"
      }
    },
    {
      "cell_type": "code",
      "source": [
        "for n in tqdm(range(2,14)):\n",
        "  for j in range(n-1, n): # case j=n-1\n",
        "    k = j\n",
        "    check_differences_for_all_i(q=q,n=n,j=j,k=k, margin=3)"
      ],
      "metadata": {
        "colab": {
          "base_uri": "https://localhost:8080/"
        },
        "id": "ZguU7X2m39lI",
        "outputId": "9c396811-4fb1-4e10-9b70-8089980d4f22"
      },
      "execution_count": null,
      "outputs": [
        {
          "output_type": "stream",
          "name": "stderr",
          "text": [
            "100%|██████████| 12/12 [01:26<00:00,  7.19s/it]\n"
          ]
        }
      ]
    },
    {
      "cell_type": "markdown",
      "source": [
        "Let us print the values $d_{ijk}(m,n)$ in the remaining cases:"
      ],
      "metadata": {
        "id": "EsMt6JK_46SY"
      }
    },
    {
      "cell_type": "code",
      "source": [
        "for n in range(2,14):\n",
        "  m = n\n",
        "  for j in range(n-1, n): # case j=n-1\n",
        "    k = j\n",
        "    print(f'm=n={n}, j=k={k}')\n",
        "    for i in range(abs(j-k),min(m,n,j+k)+1):\n",
        "      print(f'i={i}', d_mnijk_poly(2,m,n,i,j,k)) # here we abuse that if we replace q by number the function continues to work properly"
      ],
      "metadata": {
        "colab": {
          "base_uri": "https://localhost:8080/"
        },
        "id": "-OUYKvFo5ElP",
        "outputId": "03b68c13-a5fd-449d-be3b-5de93e831881"
      },
      "execution_count": null,
      "outputs": [
        {
          "output_type": "stream",
          "name": "stdout",
          "text": [
            "m=n=2, j=k=1\n",
            "i=0 9\n",
            "i=1 4\n",
            "i=2 6\n",
            "m=n=3, j=k=2\n",
            "i=0 294\n",
            "i=1 162\n",
            "i=2 170\n",
            "i=3 168\n",
            "m=n=4, j=k=3\n",
            "i=0 37800\n",
            "i=1 22344\n",
            "i=2 21816\n",
            "i=3 21776\n",
            "i=4 21840\n",
            "m=n=5, j=k=4\n",
            "i=0 19373760\n",
            "i=1 11793600\n",
            "i=2 11250624\n",
            "i=3 11184192\n",
            "i=4 11184064\n",
            "i=5 11189760\n",
            "m=n=6, j=k=5\n",
            "i=0 39687459840\n",
            "i=1 24488432640\n",
            "i=2 23144002560\n",
            "i=3 22946939904\n",
            "i=4 22919740416\n",
            "i=5 22919643136\n",
            "i=6 22922532864\n",
            "m=n=7, j=k=6\n",
            "i=0 325139829719040\n",
            "i=1 201929795665920\n",
            "i=2 190047036211200\n",
            "i=3 188170346004480\n",
            "i=4 187837850812416\n",
            "i=5 187787294834688\n",
            "i=6 187787202560000\n",
            "i=7 187793024090112\n",
            "m=n=8, j=k=7\n",
            "i=0 10654345790226432000\n",
            "i=1 6638054763543920640\n",
            "i=2 6235071511642767360\n",
            "i=3 6169220238393999360\n",
            "i=4 6156520972458393600\n",
            "i=5 6154043897860325376\n",
            "i=6 6153649504967983104\n",
            "i=7 6153649132377473024\n",
            "i=8 6153696450308997120\n",
            "m=n=9, j=k=8\n",
            "i=0 1396491759480328106803200\n",
            "i=1 871440250874200326144000\n",
            "i=2 817748542931991779082240\n",
            "i=3 808830536200640759070720\n",
            "i=4 807047479852516025303040\n",
            "i=5 806668880090392166400000\n",
            "i=6 806591463308316666494976\n",
            "i=7 806578851648469003665408\n",
            "i=8 806578845591775379193856\n",
            "i=9 806580390048923155169280\n",
            "m=n=10, j=k=9\n",
            "i=0 732164571206732295657278668800\n",
            "i=1 457244917856086950041930956800\n",
            "i=2 428869014957516831409255219200\n",
            "i=3 424118109641902957232432087040\n",
            "i=4 423152158203955636132915445760\n",
            "i=5 422939506711422189633389199360\n",
            "i=6 422892165161161012378903511040\n",
            "i=7 422882254949428544167955398656\n",
            "i=8 422880621973057307507555303424\n",
            "i=9 422880621577676277264588734464\n",
            "i=10 422880823617382591026614501376\n",
            "m=n=11, j=k=10\n",
            "i=0 1535460761275478347250381697633484800\n",
            "i=1 959287878511630307628531770091110400\n",
            "i=2 899543673387864253696951078354944000\n",
            "i=3 889501283364168139266341553674649600\n",
            "i=4 887442886031100071442752680922972160\n",
            "i=5 886982069138274299787919594755194880\n",
            "i=6 886875700710356073751636869120000000\n",
            "i=7 886851456696202920020023631696363520\n",
            "i=8 886846321877773029689420186872971264\n",
            "i=9 886845470937834679150174022330744832\n",
            "i=10 886845470834390349517738971370618880\n",
            "i=11 886845576657939563642735369794879488\n",
            "m=n=12, j=k=11\n",
            "i=0 12880379193826999985837000446453418557440000\n",
            "i=1 8048664204256433827404496804030268099788800\n",
            "i=2 7546508005210150710155585311165989991219200\n",
            "i=3 7461934783338554914374617114478921331507200\n",
            "i=4 7444530702346877709537684828011423072256000\n",
            "i=5 7440602764104955326459276141527035973468160\n",
            "i=6 7439680749492416729401949274687645406986240\n",
            "i=7 7439462855061661474391936558350793221079040\n",
            "i=8 7439412605286701578807803720513091534848000\n",
            "i=9 7439401900157970227817027295222942761222144\n",
            "i=10 7439400121045472968591066197721491424935936\n",
            "i=11 7439400120937109654195801985236722868289536\n",
            "i=12 7439400342756814221301349973796764065464320\n",
            "m=n=13, j=k=12\n",
            "i=0 432193814235245183574530736443410755554037989376000\n",
            "i=1 270094750854337849047009377425892459744518471680000\n",
            "i=2 253228674571896371929237125158331287384974216396800\n",
            "i=3 250385304743913947591754227615348881869888710246400\n",
            "i=4 249799021940234716057912617713447684704106761420800\n",
            "i=5 249666176361634831292459008957128511976676261888000\n",
            "i=6 249634739782128547963705205793503548818488410767360\n",
            "i=7 249627184793719686575705862395203532842004989870080\n",
            "i=8 249625378279217025502317046207812909038453926133760\n",
            "i=9 249624959220655350142982012956639635190430721638400\n",
            "i=10 249624869684090445151336987408406903623116090507264\n",
            "i=11 249624854782568763614547234091869029275967120474112\n",
            "i=12 249624854782114476859593801930031180169364335755264\n",
            "i=13 249624856642418738393898505864580156440922743111680\n"
          ]
        }
      ]
    },
    {
      "cell_type": "markdown",
      "source": [
        "Is it not very hard to see by hand that while the sequences are not monotoneous anymore, all numbers in each sequence are distinct. To be sure, we ask the computer to check this for us:"
      ],
      "metadata": {
        "id": "2Ump9uN96I_h"
      }
    },
    {
      "cell_type": "code",
      "source": [
        "for n in tqdm(range(2,14)):\n",
        "  m = n\n",
        "  for j in range(n-1, n): # case j=n-1\n",
        "    k = j\n",
        "    seq = []\n",
        "    for i in range(abs(j-k),min(m,n,j+k)+1):\n",
        "      seq.append(d_mnijk_poly(2,m,n,i,j,k)) # here we abuse that if we replace q by number the function continues to work properly\n",
        "    if len(set(seq)) != len(seq):\n",
        "      print(f'm=n={n}, j=k={k}')\n",
        "      print(seq)"
      ],
      "metadata": {
        "colab": {
          "base_uri": "https://localhost:8080/"
        },
        "id": "L2ImVGzU6WN5",
        "outputId": "349a5838-c7c6-4174-bb22-b9c313a388d9"
      },
      "execution_count": null,
      "outputs": [
        {
          "output_type": "stream",
          "name": "stderr",
          "text": [
            "100%|██████████| 12/12 [00:00<00:00, 1589.81it/s]\n"
          ]
        }
      ]
    }
  ],
  "metadata": {
    "colab": {
      "provenance": [],
      "authorship_tag": "ABX9TyPHNhu2mD1wt+oqprkimYfZ"
    },
    "kernelspec": {
      "display_name": "Python 3",
      "name": "python3"
    },
    "language_info": {
      "name": "python"
    }
  },
  "nbformat": 4,
  "nbformat_minor": 0
}